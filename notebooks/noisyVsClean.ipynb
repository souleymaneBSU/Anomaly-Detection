{
 "cells": [
  {
   "cell_type": "code",
   "execution_count": 1,
   "id": "f2639785",
   "metadata": {},
   "outputs": [
    {
     "name": "stderr",
     "output_type": "stream",
     "text": [
      "/home/nbuser/anaconda3/envs/mypy3/lib/python3.9/site-packages/torchvision/io/image.py:13: UserWarning: Failed to load image Python extension: '/home/nbuser/anaconda3/envs/mypy3/lib/python3.9/site-packages/torchvision/image.so: undefined symbol: _ZNK3c107SymBool10guard_boolEPKcl'If you don't plan on using image functionality from `torchvision.io`, you can ignore this warning. Otherwise, there might be something wrong with your environment. Did you have `libjpeg` or `libpng` installed before building `torchvision` from source?\n",
      "  warn(\n"
     ]
    }
   ],
   "source": [
    "\n",
    "import numpy as np\n",
    "\n",
    "from collections import defaultdict\n",
    "import copy\n",
    "\n",
    "import sys\n",
    "import os\n",
    "import time\n",
    "import datetime\n",
    "import torch\n",
    "import torchvision\n",
    "\n",
    "import matplotlib.pyplot as plt\n",
    "import torch.nn as nn\n",
    "\n"
   ]
  },
  {
   "cell_type": "code",
   "execution_count": 3,
   "id": "cc55ce8b-07a1-4185-ab2c-fe00b14d7905",
   "metadata": {},
   "outputs": [
    {
     "data": {
      "text/plain": [
       "'cuda'"
      ]
     },
     "execution_count": 3,
     "metadata": {},
     "output_type": "execute_result"
    }
   ],
   "source": [
    "device ='cuda' if torch.cuda.is_available() else 'cpu'\n",
    "device"
   ]
  },
  {
   "cell_type": "code",
   "execution_count": 5,
   "id": "b546c721-4d3e-4279-99a4-4f4140624b44",
   "metadata": {},
   "outputs": [],
   "source": [
    "\n",
    "#load pretrained model\n",
    "model = torchvision.models.resnet18(pretrained=True)\n",
    "num_ftrs = model.fc.in_features\n",
    "\n",
    "#modify output layer for 2 classes - for this case the classes are regular frogs and noisy frogs\n",
    "#but for the project it would be poisoned vs non-poisoned images\n",
    "model.fc = torch.nn.Linear(num_ftrs, 2)\n",
    "\n"
   ]
  },
  {
   "cell_type": "code",
   "execution_count": null,
   "id": "e1568c85-cbf4-4af2-83a4-18d516f051fe",
   "metadata": {},
   "outputs": [],
   "source": [
    "#freeze earlier layers - this is optional and it may work better to NOT freeze the earlier layers\n",
    "for param in model.parameters():\n",
    "    param.requires_grad = False\n",
    "    for name, param in model.named_parameters():\n",
    "        if \"fc\" in name:\n",
    "            param.requires_grad = True \n"
   ]
  },
  {
   "cell_type": "code",
   "execution_count": 41,
   "id": "3d142d7b-b135-48d0-a17a-a76e99a31c31",
   "metadata": {},
   "outputs": [],
   "source": [
    "import torchvision.transforms as transforms\n",
    "\n",
    "transform = transforms.Compose(\n",
    "    [transforms.ToTensor(),\n",
    "     transforms.Normalize((0.5, 0.5, 0.5), (0.5, 0.5, 0.5))])\n",
    "\n",
    "\n",
    "trainset = torchvision.datasets.ImageFolder(root=\"data/noisy_vs_clean/train\",transform=transform)\n",
    "trainloader = torch.utils.data.DataLoader(trainset, batch_size=32, shuffle=True, num_workers=2)\n",
    "\n",
    "testset = torchvision.datasets.ImageFolder(root=\"data/noisy_vs_clean/train\",transform=transform)\n",
    "testloader = torch.utils.data.DataLoader(trainset, batch_size=32, shuffle=True, num_workers=2)\n",
    "\n",
    "\n",
    "EPOCHS=40\n",
    "BATCH_SIZE = 32\n",
    "TOTAL_SIZE = 9800\n",
    "#TOTAL_TEST_SIZE = \n",
    "STEPS_PER_EPOCH = TOTAL_SIZE // BATCH_SIZE\n",
    "\n",
    "TOTAL_TEST_SIZE = 200 \n",
    "STEPS_PER_TEST_EPOCH = TOTAL_TEST_SIZE // BATCH_SIZE\n",
    "#testset = torchvision.datasets.CIFAR10(root='./data', train=False, download=True, transform=transform)\n",
    "#testloader = torch.utils.data.DataLoader(testset, batch_size=4, shuffle=False, num_workers=2)"
   ]
  },
  {
   "cell_type": "code",
   "execution_count": 28,
   "id": "be43e011-fdf5-4d02-9cb7-247c0884e508",
   "metadata": {},
   "outputs": [
    {
     "data": {
      "text/plain": [
       "Dataset ImageFolder\n",
       "    Number of datapoints: 9800\n",
       "    Root location: data/noisy_vs_clean/train\n",
       "    StandardTransform\n",
       "Transform: Compose(\n",
       "               ToTensor()\n",
       "               Normalize(mean=(0.5, 0.5, 0.5), std=(0.5, 0.5, 0.5))\n",
       "           )"
      ]
     },
     "execution_count": 28,
     "metadata": {},
     "output_type": "execute_result"
    }
   ],
   "source": [
    "trainset"
   ]
  },
  {
   "cell_type": "code",
   "execution_count": 29,
   "id": "73e855ae-330b-48df-83b9-f1ebd8c9fe88",
   "metadata": {},
   "outputs": [
    {
     "data": {
      "text/plain": [
       "['cleanfrog', 'realNoisyFrogs']"
      ]
     },
     "execution_count": 29,
     "metadata": {},
     "output_type": "execute_result"
    }
   ],
   "source": [
    "trainset.classes"
   ]
  },
  {
   "cell_type": "code",
   "execution_count": 30,
   "id": "796909e5-930b-4a8f-9cb5-e1871beb3cc7",
   "metadata": {},
   "outputs": [],
   "source": [
    "device = torch.device(\"cuda:0\" if torch.cuda.is_available() else \"cpu\")\n",
    "model.to(device)  # Sending model to device\n",
    "criterion = nn.CrossEntropyLoss()\n",
    "optimizer = torch.optim.Adam(\n",
    "    model.parameters(), lr=0.0007\n",
    ")  # lr should be kept low so that the pre-trained weights don't change easily"
   ]
  },
  {
   "cell_type": "code",
   "execution_count": 36,
   "id": "1254f433-6658-43cc-a2ff-ead0d19cf0b7",
   "metadata": {},
   "outputs": [],
   "source": [
    "def get_test():\n",
    "    test_loss = []\n",
    "    correct = 0\n",
    "    incorrect = 0\n",
    "\n",
    "    device = torch.device(\"cuda:0\" if torch.cuda.is_available() else \"cpu\")\n",
    "\n",
    "    for batch_idx, (data, target) in enumerate(testloader):\n",
    "        if batch_idx == STEPS_PER_TEST_EPOCH:\n",
    "            break\n",
    "\n",
    "        # Model is used to predict the test data so we are switching off the gradient\n",
    "\n",
    "        with torch.no_grad():\n",
    "\n",
    "            data = data.to(device)\n",
    "            target = target.long().to(device)\n",
    "            output = model(data)\n",
    "            criterion = nn.CrossEntropyLoss()\n",
    "            loss = criterion(output, target)\n",
    "\n",
    "            # Note that optimizer is not used because the model shouldn't learn the test dataset\n",
    "\n",
    "            for i in range(BATCH_SIZE):\n",
    "                a = []\n",
    "                for j in output[i]:\n",
    "                    a.append(float(j.detach()))\n",
    "\n",
    "                pred = a.index(max(a))\n",
    "\n",
    "                if pred == int(target[i]):\n",
    "                    correct = correct + 1\n",
    "\n",
    "                else:\n",
    "                    incorrect = incorrect + 1\n",
    "\n",
    "        test_loss.append(float(loss.detach()))\n",
    "    print(\"CORRECT: \" + str(correct), \"INCORRECT: \" + str(incorrect),\"TEST ACCURACY: \"+str(correct/(correct+incorrect)))\n",
    "    return (\n",
    "            correct/(incorrect+correct),\n",
    "            sum(test_loss)/len(test_loss),\n",
    "    )"
   ]
  },
  {
   "cell_type": "code",
   "execution_count": 37,
   "id": "53b65a87-112f-4d94-914c-c67893873244",
   "metadata": {},
   "outputs": [
    {
     "name": "stdout",
     "output_type": "stream",
     "text": [
      "CORRECT: 105 INCORRECT: 87 TEST ACCURACY: 0.546875\n",
      "ACCURACY AND LOSS BEFORE TUNING\n",
      "ACCURACY : 0.546875 LOSS : 3.638874332110087\n"
     ]
    }
   ],
   "source": [
    "acc_ , loss_ = get_test()\n",
    "print(\"ACCURACY AND LOSS BEFORE TUNING\")\n",
    "print(\"ACCURACY : \"+str(acc_),\"LOSS : \"+str(loss_))"
   ]
  },
  {
   "cell_type": "code",
   "execution_count": 42,
   "id": "ba9ad283-a8be-4f84-add2-56b6e63fc018",
   "metadata": {},
   "outputs": [
    {
     "name": "stdout",
     "output_type": "stream",
     "text": [
      "-----------------------EPOCH 0 -----------------------------------\n",
      " EPOCH 0 MINIBATCH: 305/306 LOSS: tensor(0.4185, device='cuda:0') \n",
      " EPOCH 0 LOSS tensor(0.4776, device='cuda:0') ETA: 5.431394100189209 \n",
      " MAX LOSS: tensor(0.9438, device='cuda:0') MIN LOSS: tensor(0.2075, device='cuda:0') TRAIN ACCURACY: 0.7695057189542484\n",
      "CORRECT: 146 INCORRECT: 46 TEST ACCURACY: 0.7604166666666666\n",
      "-----------------------EPOCH 1 -----------------------------------\n",
      " EPOCH 1 MINIBATCH: 305/306 LOSS: tensor(0.5220, device='cuda:0') \n",
      " EPOCH 1 LOSS tensor(0.4350, device='cuda:0') ETA: 4.585124731063843 \n",
      " MAX LOSS: tensor(0.8287, device='cuda:0') MIN LOSS: tensor(0.2141, device='cuda:0') TRAIN ACCURACY: 0.7890114379084967\n",
      "CORRECT: 162 INCORRECT: 30 TEST ACCURACY: 0.84375\n",
      "-----------------------EPOCH 2 -----------------------------------\n",
      " EPOCH 2 MINIBATCH: 305/306 LOSS: tensor(0.4576, device='cuda:0') \n",
      " EPOCH 2 LOSS tensor(0.4016, device='cuda:0') ETA: 4.890000820159912 \n",
      " MAX LOSS: tensor(1.0082, device='cuda:0') MIN LOSS: tensor(0.2231, device='cuda:0') TRAIN ACCURACY: 0.8112745098039216\n",
      "CORRECT: 165 INCORRECT: 27 TEST ACCURACY: 0.859375\n",
      "-----------------------EPOCH 3 -----------------------------------\n",
      " EPOCH 3 MINIBATCH: 305/306 LOSS: tensor(0.4907, device='cuda:0') \n",
      " EPOCH 3 LOSS tensor(0.4024, device='cuda:0') ETA: 5.148892641067505 \n",
      " MAX LOSS: tensor(1.0412, device='cuda:0') MIN LOSS: tensor(0.1760, device='cuda:0') TRAIN ACCURACY: 0.8143382352941176\n",
      "CORRECT: 172 INCORRECT: 20 TEST ACCURACY: 0.8958333333333334\n",
      "-----------------------EPOCH 4 -----------------------------------\n",
      " EPOCH 4 MINIBATCH: 305/306 LOSS: tensor(0.3224, device='cuda:0') \n",
      " EPOCH 4 LOSS tensor(0.3868, device='cuda:0') ETA: 5.5457494258880615 \n",
      " MAX LOSS: tensor(0.9204, device='cuda:0') MIN LOSS: tensor(0.1573, device='cuda:0') TRAIN ACCURACY: 0.8227124183006536\n",
      "CORRECT: 156 INCORRECT: 36 TEST ACCURACY: 0.8125\n",
      "-----------------------EPOCH 5 -----------------------------------\n",
      " EPOCH 5 MINIBATCH: 305/306 LOSS: tensor(0.2685, device='cuda:0') \n",
      " EPOCH 5 LOSS tensor(0.3583, device='cuda:0') ETA: 4.361610412597656 \n",
      " MAX LOSS: tensor(0.8055, device='cuda:0') MIN LOSS: tensor(0.1637, device='cuda:0') TRAIN ACCURACY: 0.8352736928104575\n",
      "CORRECT: 163 INCORRECT: 29 TEST ACCURACY: 0.8489583333333334\n",
      "-----------------------EPOCH 6 -----------------------------------\n",
      " EPOCH 6 MINIBATCH: 305/306 LOSS: tensor(0.6049, device='cuda:0') \n",
      " EPOCH 6 LOSS tensor(0.3381, device='cuda:0') ETA: 4.550241708755493 \n",
      " MAX LOSS: tensor(0.7367, device='cuda:0') MIN LOSS: tensor(0.1362, device='cuda:0') TRAIN ACCURACY: 0.8468137254901961\n",
      "CORRECT: 169 INCORRECT: 23 TEST ACCURACY: 0.8802083333333334\n",
      "-----------------------EPOCH 7 -----------------------------------\n",
      " EPOCH 7 MINIBATCH: 305/306 LOSS: tensor(0.2808, device='cuda:0') \n",
      " EPOCH 7 LOSS tensor(0.3277, device='cuda:0') ETA: 4.443801641464233 \n",
      " MAX LOSS: tensor(0.8916, device='cuda:0') MIN LOSS: tensor(0.1352, device='cuda:0') TRAIN ACCURACY: 0.8558006535947712\n",
      "CORRECT: 174 INCORRECT: 18 TEST ACCURACY: 0.90625\n",
      "-----------------------EPOCH 8 -----------------------------------\n",
      " EPOCH 8 MINIBATCH: 305/306 LOSS: tensor(0.5924, device='cuda:0') \n",
      " EPOCH 8 LOSS tensor(0.5046, device='cuda:0') ETA: 4.187664985656738 \n",
      " MAX LOSS: tensor(1.0323, device='cuda:0') MIN LOSS: tensor(0.1170, device='cuda:0') TRAIN ACCURACY: 0.7393790849673203\n",
      "CORRECT: 138 INCORRECT: 54 TEST ACCURACY: 0.71875\n",
      "-----------------------EPOCH 9 -----------------------------------\n",
      " EPOCH 9 MINIBATCH: 305/306 LOSS: tensor(0.3549, device='cuda:0') \n",
      " EPOCH 9 LOSS tensor(0.4700, device='cuda:0') ETA: 4.1835877895355225 \n",
      " MAX LOSS: tensor(1.1553, device='cuda:0') MIN LOSS: tensor(0.2285, device='cuda:0') TRAIN ACCURACY: 0.7748161764705882\n",
      "CORRECT: 157 INCORRECT: 35 TEST ACCURACY: 0.8177083333333334\n",
      "-----------------------EPOCH 10 -----------------------------------\n",
      " EPOCH 10 MINIBATCH: 305/306 LOSS: tensor(0.2447, device='cuda:0') \n",
      " EPOCH 10 LOSS tensor(0.3973, device='cuda:0') ETA: 4.461026430130005 \n",
      " MAX LOSS: tensor(1.0563, device='cuda:0') MIN LOSS: tensor(0.1950, device='cuda:0') TRAIN ACCURACY: 0.8155637254901961\n",
      "CORRECT: 162 INCORRECT: 30 TEST ACCURACY: 0.84375\n",
      "-----------------------EPOCH 11 -----------------------------------\n",
      " EPOCH 11 MINIBATCH: 305/306 LOSS: tensor(0.3298, device='cuda:0') \n",
      " EPOCH 11 LOSS tensor(0.3141, device='cuda:0') ETA: 4.334457159042358 \n",
      " MAX LOSS: tensor(1.0415, device='cuda:0') MIN LOSS: tensor(0.1403, device='cuda:0') TRAIN ACCURACY: 0.8578431372549019\n",
      "CORRECT: 169 INCORRECT: 23 TEST ACCURACY: 0.8802083333333334\n",
      "-----------------------EPOCH 12 -----------------------------------\n",
      " EPOCH 12 MINIBATCH: 305/306 LOSS: tensor(0.3508, device='cuda:0') \n",
      " EPOCH 12 LOSS tensor(0.3192, device='cuda:0') ETA: 4.228876113891602 \n",
      " MAX LOSS: tensor(1.0149, device='cuda:0') MIN LOSS: tensor(0.1085, device='cuda:0') TRAIN ACCURACY: 0.8587622549019608\n",
      "CORRECT: 156 INCORRECT: 36 TEST ACCURACY: 0.8125\n",
      "-----------------------EPOCH 13 -----------------------------------\n",
      " EPOCH 13 MINIBATCH: 305/306 LOSS: tensor(0.6460, device='cuda:0') \n",
      " EPOCH 13 LOSS tensor(0.7101, device='cuda:0') ETA: 4.476247072219849 \n",
      " MAX LOSS: tensor(1.1178, device='cuda:0') MIN LOSS: tensor(0.2943, device='cuda:0') TRAIN ACCURACY: 0.5553513071895425\n",
      "CORRECT: 104 INCORRECT: 88 TEST ACCURACY: 0.5416666666666666\n",
      "-----------------------EPOCH 14 -----------------------------------\n",
      " EPOCH 14 MINIBATCH: 305/306 LOSS: tensor(0.4928, device='cuda:0') \n",
      " EPOCH 14 LOSS tensor(0.6323, device='cuda:0') ETA: 4.256348371505737 \n",
      " MAX LOSS: tensor(0.8370, device='cuda:0') MIN LOSS: tensor(0.4250, device='cuda:0') TRAIN ACCURACY: 0.6347017973856209\n",
      "CORRECT: 149 INCORRECT: 43 TEST ACCURACY: 0.7760416666666666\n",
      "-----------------------EPOCH 15 -----------------------------------\n",
      " EPOCH 15 MINIBATCH: 305/306 LOSS: tensor(0.4296, device='cuda:0') \n",
      " EPOCH 15 LOSS tensor(0.4877, device='cuda:0') ETA: 4.576681852340698 \n",
      " MAX LOSS: tensor(0.8211, device='cuda:0') MIN LOSS: tensor(0.2420, device='cuda:0') TRAIN ACCURACY: 0.7647058823529411\n",
      "CORRECT: 145 INCORRECT: 47 TEST ACCURACY: 0.7552083333333334\n",
      "-----------------------EPOCH 16 -----------------------------------\n",
      " EPOCH 16 MINIBATCH: 305/306 LOSS: tensor(0.3146, device='cuda:0') \n",
      " EPOCH 16 LOSS tensor(0.3685, device='cuda:0') ETA: 4.373525619506836 \n",
      " MAX LOSS: tensor(0.7995, device='cuda:0') MIN LOSS: tensor(0.1493, device='cuda:0') TRAIN ACCURACY: 0.8341503267973857\n",
      "CORRECT: 166 INCORRECT: 26 TEST ACCURACY: 0.8645833333333334\n",
      "-----------------------EPOCH 17 -----------------------------------\n",
      " EPOCH 17 MINIBATCH: 305/306 LOSS: tensor(0.3082, device='cuda:0') \n",
      " EPOCH 17 LOSS tensor(0.3057, device='cuda:0') ETA: 4.2008302211761475 \n",
      " MAX LOSS: tensor(0.7923, device='cuda:0') MIN LOSS: tensor(0.1060, device='cuda:0') TRAIN ACCURACY: 0.8618259803921569\n",
      "CORRECT: 175 INCORRECT: 17 TEST ACCURACY: 0.9114583333333334\n",
      "-----------------------EPOCH 18 -----------------------------------\n",
      " EPOCH 18 MINIBATCH: 305/306 LOSS: tensor(0.1571, device='cuda:0') \n",
      " EPOCH 18 LOSS tensor(0.2632, device='cuda:0') ETA: 4.2431042194366455 \n",
      " MAX LOSS: tensor(0.7598, device='cuda:0') MIN LOSS: tensor(0.0975, device='cuda:0') TRAIN ACCURACY: 0.8857230392156863\n",
      "CORRECT: 172 INCORRECT: 20 TEST ACCURACY: 0.8958333333333334\n",
      "-----------------------EPOCH 19 -----------------------------------\n",
      " EPOCH 19 MINIBATCH: 305/306 LOSS: tensor(0.3722, device='cuda:0') \n",
      " EPOCH 19 LOSS tensor(0.2414, device='cuda:0') ETA: 5.739360809326172 \n",
      " MAX LOSS: tensor(0.6229, device='cuda:0') MIN LOSS: tensor(0.0759, device='cuda:0') TRAIN ACCURACY: 0.8944035947712419\n",
      "CORRECT: 166 INCORRECT: 26 TEST ACCURACY: 0.8645833333333334\n",
      "-----------------------EPOCH 20 -----------------------------------\n",
      " EPOCH 20 MINIBATCH: 305/306 LOSS: tensor(0.3464, device='cuda:0') \n",
      " EPOCH 20 LOSS tensor(0.2358, device='cuda:0') ETA: 5.147895097732544 \n",
      " MAX LOSS: tensor(0.5960, device='cuda:0') MIN LOSS: tensor(0.0628, device='cuda:0') TRAIN ACCURACY: 0.8996119281045751\n",
      "CORRECT: 177 INCORRECT: 15 TEST ACCURACY: 0.921875\n",
      "-----------------------EPOCH 21 -----------------------------------\n",
      " EPOCH 21 MINIBATCH: 305/306 LOSS: tensor(0.3216, device='cuda:0') \n",
      " EPOCH 21 LOSS tensor(0.2334, device='cuda:0') ETA: 5.6799476146698 \n",
      " MAX LOSS: tensor(0.7494, device='cuda:0') MIN LOSS: tensor(0.0678, device='cuda:0') TRAIN ACCURACY: 0.8996119281045751\n",
      "CORRECT: 180 INCORRECT: 12 TEST ACCURACY: 0.9375\n",
      "-----------------------EPOCH 22 -----------------------------------\n",
      " EPOCH 22 MINIBATCH: 305/306 LOSS: tensor(0.1529, device='cuda:0') \n",
      " EPOCH 22 LOSS tensor(0.2113, device='cuda:0') ETA: 5.837890625 \n",
      " MAX LOSS: tensor(0.6624, device='cuda:0') MIN LOSS: tensor(0.0433, device='cuda:0') TRAIN ACCURACY: 0.9116625816993464\n",
      "CORRECT: 183 INCORRECT: 9 TEST ACCURACY: 0.953125\n",
      "-----------------------EPOCH 23 -----------------------------------\n",
      " EPOCH 23 MINIBATCH: 305/306 LOSS: tensor(0.2548, device='cuda:0') \n",
      " EPOCH 23 LOSS tensor(0.1989, device='cuda:0') ETA: 5.195005655288696 \n",
      " MAX LOSS: tensor(0.6380, device='cuda:0') MIN LOSS: tensor(0.0384, device='cuda:0') TRAIN ACCURACY: 0.9200367647058824\n",
      "CORRECT: 175 INCORRECT: 17 TEST ACCURACY: 0.9114583333333334\n",
      "-----------------------EPOCH 24 -----------------------------------\n",
      " EPOCH 24 MINIBATCH: 305/306 LOSS: tensor(0.1646, device='cuda:0') \n",
      " EPOCH 24 LOSS tensor(0.1904, device='cuda:0') ETA: 5.121939420700073 \n",
      " MAX LOSS: tensor(0.6313, device='cuda:0') MIN LOSS: tensor(0.0329, device='cuda:0') TRAIN ACCURACY: 0.9231004901960784\n",
      "CORRECT: 185 INCORRECT: 7 TEST ACCURACY: 0.9635416666666666\n",
      "-----------------------EPOCH 25 -----------------------------------\n",
      " EPOCH 25 MINIBATCH: 305/306 LOSS: tensor(0.1063, device='cuda:0') \n",
      " EPOCH 25 LOSS tensor(0.1634, device='cuda:0') ETA: 5.377809762954712 \n",
      " MAX LOSS: tensor(0.5805, device='cuda:0') MIN LOSS: tensor(0.0312, device='cuda:0') TRAIN ACCURACY: 0.9331086601307189\n",
      "CORRECT: 182 INCORRECT: 10 TEST ACCURACY: 0.9479166666666666\n",
      "-----------------------EPOCH 26 -----------------------------------\n",
      " EPOCH 26 MINIBATCH: 305/306 LOSS: tensor(0.1697, device='cuda:0') \n",
      " EPOCH 26 LOSS tensor(0.1533, device='cuda:0') ETA: 4.7855565547943115 \n",
      " MAX LOSS: tensor(0.4753, device='cuda:0') MIN LOSS: tensor(0.0290, device='cuda:0') TRAIN ACCURACY: 0.9362745098039216\n",
      "CORRECT: 187 INCORRECT: 5 TEST ACCURACY: 0.9739583333333334\n",
      "-----------------------EPOCH 27 -----------------------------------\n",
      " EPOCH 27 MINIBATCH: 305/306 LOSS: tensor(0.0860, device='cuda:0') \n",
      " EPOCH 27 LOSS tensor(0.1464, device='cuda:0') ETA: 4.930516481399536 \n",
      " MAX LOSS: tensor(0.4933, device='cuda:0') MIN LOSS: tensor(0.0289, device='cuda:0') TRAIN ACCURACY: 0.938827614379085\n",
      "CORRECT: 185 INCORRECT: 7 TEST ACCURACY: 0.9635416666666666\n",
      "-----------------------EPOCH 28 -----------------------------------\n",
      " EPOCH 28 MINIBATCH: 305/306 LOSS: tensor(0.0589, device='cuda:0') \n",
      " EPOCH 28 LOSS tensor(0.1347, device='cuda:0') ETA: 5.386906147003174 \n",
      " MAX LOSS: tensor(0.5286, device='cuda:0') MIN LOSS: tensor(0.0101, device='cuda:0') TRAIN ACCURACY: 0.9409722222222222\n",
      "CORRECT: 187 INCORRECT: 5 TEST ACCURACY: 0.9739583333333334\n",
      "-----------------------EPOCH 29 -----------------------------------\n",
      " EPOCH 29 MINIBATCH: 305/306 LOSS: tensor(0.1431, device='cuda:0') \n",
      " EPOCH 29 LOSS tensor(0.1516, device='cuda:0') ETA: 5.4619975090026855 \n",
      " MAX LOSS: tensor(0.7374, device='cuda:0') MIN LOSS: tensor(0.0132, device='cuda:0') TRAIN ACCURACY: 0.9393382352941176\n",
      "CORRECT: 188 INCORRECT: 4 TEST ACCURACY: 0.9791666666666666\n"
     ]
    }
   ],
   "source": [
    "avg_test_loss_history = []\n",
    "avg_test_accuracy_history = []\n",
    "avg_train_loss_history = []\n",
    "avg_train_accuracy_history = []\n",
    "\n",
    "\n",
    "loss_history = []\n",
    "accuracy_history = []\n",
    "\n",
    "new_best = 0\n",
    "\n",
    "for i in range(EPOCHS):\n",
    "\n",
    "    start = time.time()\n",
    "    print(\n",
    "        \"-----------------------EPOCH \"\n",
    "        + str(i)\n",
    "        + \" -----------------------------------\"\n",
    "    )\n",
    "    for batch_idx, (data, target) in enumerate(trainloader):\n",
    "        if batch_idx == STEPS_PER_EPOCH:\n",
    "            break\n",
    "        optimizer.zero_grad()  # Resetting gradients after each optimizations\n",
    "        # Sending input , target to device\n",
    "        data = data.to(device) \n",
    "        target = target.to(device)\n",
    "        output = model(data)\n",
    "        loss = criterion(output, target.reshape((BATCH_SIZE,)).long())\n",
    "        loss_history.append(loss.detach())\n",
    "        # The loss variable has gradient attached to it so we are removing it so that it can be used to plot graphs\n",
    "        loss.backward()\n",
    "        optimizer.step()  # Optimizing the model\n",
    "\n",
    "        # Checking train accuracy\n",
    "\n",
    "        correct = 0\n",
    "        incorrect = 0\n",
    "        for p in range(BATCH_SIZE):\n",
    "            a = []\n",
    "            for j in output[p]:\n",
    "                a.append(float(j.detach()))\n",
    "\n",
    "            pred = a.index(max(a))\n",
    "\n",
    "            if pred == int(target[p]):\n",
    "                correct = correct + 1\n",
    "\n",
    "            else:\n",
    "\n",
    "                incorrect = incorrect + 1\n",
    "\n",
    "        print(\n",
    "            \"\\r EPOCH \"\n",
    "            + str(i)\n",
    "            + \" MINIBATCH: \"\n",
    "            + str(batch_idx)\n",
    "            + \"/\"\n",
    "            + str(STEPS_PER_EPOCH)\n",
    "            + \" LOSS: \"\n",
    "            + str(loss_history[-1]),\n",
    "            end = \"\"\n",
    "            \n",
    "        )\n",
    "        \n",
    "        accuracy_history.append(correct/(correct+incorrect))\n",
    "\n",
    "    end = time.time()\n",
    "    print(\n",
    "        \" \\n EPOCH \"\n",
    "        + str(i)\n",
    "        + \" LOSS \"\n",
    "        + str(sum(loss_history[-STEPS_PER_EPOCH:]) / STEPS_PER_EPOCH)\n",
    "        + \" ETA: \"\n",
    "        + str(end - start)\n",
    "        + \" \\n MAX LOSS: \"\n",
    "        + str(max(loss_history[-STEPS_PER_EPOCH:]))\n",
    "        + \" MIN LOSS: \"\n",
    "        + str(min(loss_history[-STEPS_PER_EPOCH:]))\n",
    "        + \" TRAIN ACCURACY: \"\n",
    "        + str(sum(accuracy_history[-STEPS_PER_EPOCH:]) / STEPS_PER_EPOCH)\n",
    "    )\n",
    "    \n",
    "    avg_train_loss_history.append(sum(loss_history[-STEPS_PER_EPOCH:]) / STEPS_PER_EPOCH)\n",
    "    avg_train_accuracy_history.append(sum(accuracy_history[-STEPS_PER_EPOCH:]) / STEPS_PER_EPOCH)\n",
    "\n",
    "    test_acc , test_loss  = get_test()\n",
    "    \n",
    "    avg_test_accuracy_history.append(test_acc)\n",
    "    avg_train_loss_history.append(test_loss)\n",
    "    \n",
    "    if test_acc>new_best: \n",
    "        new_best = test_acc\n",
    "        torch.save(model.state_dict(), \"model_save/model.pth\") # Saving our best model\n"
   ]
  },
  {
   "cell_type": "code",
   "execution_count": 43,
   "id": "60e28fc0-05b7-4415-b485-8648e8ccc006",
   "metadata": {},
   "outputs": [
    {
     "name": "stdout",
     "output_type": "stream",
     "text": [
      "ACCURACY :  0.9791666666666666\n"
     ]
    }
   ],
   "source": [
    "print(\"ACCURACY : \",new_best)"
   ]
  },
  {
   "cell_type": "code",
   "execution_count": 50,
   "id": "a6c0ec37-9fc3-49ca-b5c6-e78eae39e459",
   "metadata": {},
   "outputs": [
    {
     "data": {
      "text/plain": [
       "<function matplotlib.pyplot.legend(*args, **kwargs) -> 'Legend'>"
      ]
     },
     "execution_count": 50,
     "metadata": {},
     "output_type": "execute_result"
    },
    {
     "data": {
      "image/png": "[encoded data removed]",
      "text/plain": [
       "<Figure size 640x480 with 1 Axes>"
      ]
     },
     "metadata": {},
     "output_type": "display_data"
    }
   ],
   "source": [
    "plt.plot(avg_train_accuracy_history , label = \"Train\")\n",
    "plt.plot(avg_test_accuracy_history , label = \"Test\")\n",
    "plt.title('ACCURACY PER EPOCH')\n",
    "plt.xlabel(\"EPOCHS\")\n",
    "plt.ylabel(\"ACCURACY\")\n",
    "plt.legend"
   ]
  },
  {
   "cell_type": "code",
   "execution_count": null,
   "id": "e6b44f4f-6b65-44ca-857b-4147edae6f8d",
   "metadata": {},
   "outputs": [],
   "source": []
  }
 ],
 "metadata": {
  "kernelspec": {
   "display_name": "Python 3 (ipykernel)",
   "language": "python",
   "name": "python3"
  },
  "language_info": {
   "codemirror_mode": {
    "name": "ipython",
    "version": 3
   },
   "file_extension": ".py",
   "mimetype": "text/x-python",
   "name": "python",
   "nbconvert_exporter": "python",
   "pygments_lexer": "ipython3",
   "version": "3.9.20"
  }
 },
 "nbformat": 4,
 "nbformat_minor": 5
}
